{
 "cells": [
  {
   "cell_type": "markdown",
   "metadata": {
    "id": "xpoiOR-PxKcP"
   },
   "source": [
    "## Домашнее задание №1\n",
    "\n",
    "В этом домашнем задании вы познакомитесь с pytorch сами и сможете попрактиковаться в его применении. \n",
    "\n",
    "#### План:\n",
    "\n",
    "1. Простейшие операции в pytorch\n",
    "2. Пишем Adam и применяем его к ручной модели\n",
    "3. Обучаем свою первую нейросеть"
   ]
  },
  {
   "cell_type": "code",
   "execution_count": 225,
   "metadata": {
    "id": "pqPg9qzmxKcg"
   },
   "outputs": [],
   "source": [
    "import os\n",
    "import sys\n",
    "import math\n",
    "import torch\n",
    "import random\n",
    "import numpy as np\n",
    "from tqdm import tqdm\n",
    "import torch.nn.functional as F\n",
    "import torch.nn as nn\n",
    "import matplotlib.pyplot as plt\n",
    "import torchvision\n",
    "from torch.autograd import Variable\n",
    "import torchvision.transforms as transforms\n",
    "import torchvision.datasets as dsets"
   ]
  },
  {
   "cell_type": "markdown",
   "metadata": {
    "id": "_xuLTF7NxKdb"
   },
   "source": [
    "### Простейшие операции на pytorch (2 балла)"
   ]
  },
  {
   "cell_type": "markdown",
   "metadata": {
    "id": "pk0Q5pq5xKdk"
   },
   "source": [
    "**Task**: Cоздайте два случайных тензора (двумерных, не квадратных):"
   ]
  },
  {
   "cell_type": "code",
   "execution_count": 226,
   "metadata": {
    "id": "43yQqyw6xKdo"
   },
   "outputs": [],
   "source": [
    "x = torch.rand(5, 3)\n",
    "y = torch.rand(3, 5)"
   ]
  },
  {
   "cell_type": "markdown",
   "metadata": {
    "id": "AY39BNP_xKeJ"
   },
   "source": [
    "**Task**: Умножьте их друг на друга, результат запишите в третий тензор без использования оператора `=`:"
   ]
  },
  {
   "cell_type": "code",
   "execution_count": 227,
   "metadata": {
    "id": "NErPz17RxKeY"
   },
   "outputs": [],
   "source": [
    "z = torch.Tensor()"
   ]
  },
  {
   "cell_type": "code",
   "execution_count": 228,
   "metadata": {
    "colab": {
     "base_uri": "https://localhost:8080/",
     "height": 106
    },
    "id": "5F3nkH_rxKfG",
    "outputId": "2831f592-f6b5-4d08-8f85-5b1eda5ee0b6"
   },
   "outputs": [
    {
     "data": {
      "text/plain": [
       "tensor([[0.6760, 0.2038, 0.8908, 0.9816, 0.8915],\n",
       "        [0.7319, 0.1878, 1.1322, 1.2289, 1.0221],\n",
       "        [0.1544, 0.0450, 0.1943, 0.2179, 0.2015],\n",
       "        [0.8075, 0.1263, 0.9381, 1.1697, 1.0648],\n",
       "        [0.6541, 0.2385, 0.9218, 0.9635, 0.8670]])"
      ]
     },
     "execution_count": 228,
     "metadata": {
      "tags": []
     },
     "output_type": "execute_result"
    }
   ],
   "source": [
    "torch.matmul(x, y, out=z)"
   ]
  },
  {
   "cell_type": "markdown",
   "metadata": {
    "id": "jJI9Ik8MxKfd"
   },
   "source": [
    "**Task**: Реализуйте ReLU использую только pytorch, примените его к тензору `x` (запрещено использование модулей torch.nn и его подмодулей, а также функции torch.relu)"
   ]
  },
  {
   "cell_type": "code",
   "execution_count": 229,
   "metadata": {
    "colab": {
     "base_uri": "https://localhost:8080/",
     "height": 34
    },
    "id": "wgPX8CVd27Xn",
    "outputId": "0ee23f61-e325-4ecf-bfe2-ab864a04d1eb"
   },
   "outputs": [
    {
     "data": {
      "text/plain": [
       "tensor([3, 2, 4])"
      ]
     },
     "execution_count": 229,
     "metadata": {
      "tags": []
     },
     "output_type": "execute_result"
    }
   ],
   "source": [
    "a = torch.tensor((1, 2, -1))\n",
    "b = torch.tensor((3, 0, 4))\n",
    "torch.max(a, b)"
   ]
  },
  {
   "cell_type": "code",
   "execution_count": 230,
   "metadata": {
    "id": "99NyfBXWxKfp"
   },
   "outputs": [],
   "source": [
    "def relu_forward(x):\n",
    "    return torch.max(torch.zeros_like(x), x)\n",
    "\n",
    "assert torch.all(F.relu(x) == relu_forward(x))"
   ]
  },
  {
   "cell_type": "markdown",
   "metadata": {
    "id": "uis1NqRRxKip"
   },
   "source": [
    "**Task**: Сделайте тоже самое c ELU (запрещено использование модулей torch.nn и его подмодулей):"
   ]
  },
  {
   "cell_type": "code",
   "execution_count": 231,
   "metadata": {
    "id": "3vh1Yab_xKiy"
   },
   "outputs": [],
   "source": [
    "def elu_forward(z):\n",
    "    z[z<=0] = torch.exp(z[z <= 0]) - 1\n",
    "    return z\n",
    "\n",
    "assert torch.all(F.elu(x) == elu_forward(x))"
   ]
  },
  {
   "cell_type": "markdown",
   "metadata": {
    "id": "-TsQ4hh6xKi9"
   },
   "source": [
    "**Task**: LeakyReLU (запрещено использование модулей torch.nn и его подмодулей):"
   ]
  },
  {
   "cell_type": "code",
   "execution_count": 232,
   "metadata": {
    "id": "KVihnsS2xKjD"
   },
   "outputs": [],
   "source": [
    "def lrelu_forward(z, alpha):\n",
    "    z[z<=0] = z[z<=0] * alpha\n",
    "    return z\n",
    "\n",
    "assert torch.all(F.leaky_relu(x, 0.01) == lrelu_forward(x, 0.01))"
   ]
  },
  {
   "cell_type": "markdown",
   "metadata": {
    "id": "HvIDWud7xKkm"
   },
   "source": [
    "**Task**: Теперь перейдем к немного более современным функциям активаций, например Mish, напомним как она выглядит:\n",
    "\n",
    "$$x * tanh(ln(1+e^x))$$\n",
    "\n",
    "(запрещено использование модулей torch.nn и его подмодулей)"
   ]
  },
  {
   "cell_type": "code",
   "execution_count": 233,
   "metadata": {
    "id": "CpzDT-m0xKkn"
   },
   "outputs": [],
   "source": [
    "def mish(x):\n",
    "    return x*torch.tanh(torch.log(1+torch.exp(x)))"
   ]
  },
  {
   "cell_type": "code",
   "execution_count": 234,
   "metadata": {
    "id": "7JFe_1D4xKk_"
   },
   "outputs": [],
   "source": [
    "assert torch.allclose(\n",
    "    mish(torch.tensor([1, 1, 1], dtype=torch.float32)), \n",
    "    torch.tensor([0.8651, 0.8651, 0.8651]), \n",
    "    atol=1e-4\n",
    ")\n",
    "\n",
    "assert torch.allclose(\n",
    "    mish(torch.tensor([0.6376, 0.4021, 0.6656, 0.3726], dtype=torch.float64)), \n",
    "    torch.tensor([0.5014, 0.2908, 0.5280, 0.2663], dtype=torch.float64), \n",
    "    atol=1e-4\n",
    ")"
   ]
  },
  {
   "cell_type": "markdown",
   "metadata": {
    "id": "QzaPE-BkxKmM"
   },
   "source": [
    "**Task**: Теперь реализуем swish, напомним как она выглядит:\n",
    "\n",
    "$$x * \\sigma(x)$$\n",
    "\n",
    "(запрещено использование модулей torch.nn и его подмодулей)"
   ]
  },
  {
   "cell_type": "code",
   "execution_count": 235,
   "metadata": {
    "id": "NFfNkhuXxKmO"
   },
   "outputs": [],
   "source": [
    "def swish(x):\n",
    "    return x*torch.sigmoid(x)"
   ]
  },
  {
   "cell_type": "code",
   "execution_count": 236,
   "metadata": {
    "id": "_PIf1kzUxKmg"
   },
   "outputs": [],
   "source": [
    "assert torch.allclose(\n",
    "    swish(torch.tensor([1, 1, 1], dtype=torch.float32)), \n",
    "    torch.tensor([0.7311, 0.7311, 0.7311]), \n",
    "    atol=1e-4\n",
    ")\n",
    "\n",
    "assert torch.allclose(\n",
    "    swish(torch.tensor([0.6376, 0.4021, 0.6656, 0.3726], dtype=torch.float64)), \n",
    "    torch.tensor([0.4171, 0.2409, 0.4396, 0.2206], dtype=torch.float64), \n",
    "    atol=1e-4\n",
    ")"
   ]
  },
  {
   "cell_type": "markdown",
   "metadata": {
    "id": "P6uNdxGqxKnE"
   },
   "source": [
    "### Пишем Adam и применяем его к линейной регрессии (4 балла)\n",
    "\n",
    "\n",
    "В данной секции вам нужно сделать две вещи: \n",
    "\n",
    "1. Написать свой собственный оптимизатор подобно тому, который мы писали на семинаре\n",
    "2. Обучить логистическую регрессию побатчево на картинках из датасета \n",
    "\n",
    "\n",
    "#### Adam\n",
    "\n",
    "\n",
    "$$\n",
    "\\begin{eqnarray}\n",
    "g &=& \\frac{1}{m}\\nabla_w \\sum_i L(f(x_{i};w), y_{i}) \\\\\n",
    "m &=& \\beta_1 m + (1 - \\beta_1) g \\\\\n",
    "v &=& \\beta_2 v + (1 - \\beta_2) diag(gg^{T}) \\\\\n",
    "\\hat{m} &=& \\frac{m}{1 - \\beta_1^{t}} \\\\\n",
    "\\hat{v} &=& \\frac{v}{1 - \\beta_2^{t}} \\\\\n",
    "w &=& w - \\frac{\\eta}{\\sqrt{\\hat{v} + \\epsilon}} \\odot \\hat{m}\n",
    "\\end{eqnarray}\n",
    "$$"
   ]
  },
  {
   "cell_type": "code",
   "execution_count": 237,
   "metadata": {
    "id": "irga6P0PxKnI"
   },
   "outputs": [],
   "source": [
    "# абстрактный класс, не обращайте внимания\n",
    "from torch.optim import Optimizer\n",
    "\n",
    "\n",
    "class InClassOptimizer(Optimizer):\n",
    "    def step(self):\n",
    "        \"\"\"Perform single optimization step.\"\"\"\n",
    "        with torch.no_grad(): # выключим градиенты\n",
    "            for group in self.param_groups:\n",
    "                self._group_step(group)\n",
    "\n",
    "    def _group_step(self, group):\n",
    "        # group ~ dict[str, ...]\n",
    "        \"\"\"\n",
    "        Private helper function to perform\n",
    "        single optimization step on model parameters.\n",
    "        \"\"\"\n",
    "        raise NotImplementedError()"
   ]
  },
  {
   "cell_type": "markdown",
   "metadata": {
    "id": "kKwbSbJwxKnU"
   },
   "source": [
    "**Task**: Напишите свою реализацию Adam:"
   ]
  },
  {
   "cell_type": "code",
   "execution_count": 238,
   "metadata": {
    "id": "9RNqKu5txKnW"
   },
   "outputs": [],
   "source": [
    "class Adam(InClassOptimizer):\n",
    "    def __init__(self, params, lr=0.001, eps=1e-13, beta_1=0.9, beta_2=0.999):\n",
    "        defaults = dict(lr=lr, eps=eps, beta_1=beta_1, beta_2=beta_2)\n",
    "        self.t = 0\n",
    "        self.m = 0\n",
    "        self.v = 0\n",
    "        self.m_ = 0\n",
    "        self.v_ = 0\n",
    "        self.params = params\n",
    "        super().__init__(params, defaults)\n",
    "\n",
    "    def _group_step(self, group):\n",
    "        lr = group['lr']\n",
    "        eps = group['eps']\n",
    "        beta_1 = group['beta_1']\n",
    "        beta_2 = group['beta_2']\n",
    "        for param in filter(lambda x: x.grad is not None, self.params):\n",
    "            if self.step == 0:\n",
    "                self.m = torch.zeros_like(d_param)\n",
    "                self.v = torch.zeros_like(d_param)\n",
    "            self._init_adam_buffer(param)\n",
    "            d_param = param.grad\n",
    "            state = self._get_adam_buffer(param)\n",
    "            self.t += 1\n",
    "            self.m = beta_1 * self.m + (1 - beta_1) * d_param\n",
    "            self.v = beta_2 * self.v + (1 - beta_2) * d_param**2\n",
    "            self.m_ = self.m / (1 - beta_1 ** self.t)\n",
    "            self.v_ = self.v / (1 - beta_2 ** self.t)\n",
    "            param.add_(self.m_/torch.sqrt(self.v_ + eps), alpha=-lr)\n",
    "\n",
    "    def _get_adam_buffer(self, param):\n",
    "        param_state = self.state[param]\n",
    "        return param_state['adam_buffer']\n",
    "\n",
    "    def _init_adam_buffer(self, param):\n",
    "        param_state = self.state[param]\n",
    "        if 'adam_buffer' not in param_state:\n",
    "            param_state['adam_buffer'] = [torch.zeros_like(param),\n",
    "                                          torch.zeros_like(param)]"
   ]
  },
  {
   "cell_type": "markdown",
   "metadata": {
    "id": "RfXePznoxKnu"
   },
   "source": [
    "**Task**: Создайте параметры для обучения линейной регрессии, сделаем Xavier ициализацию, которая выглядит следующим образом: \n",
    "\n",
    "$$w \\sim U[-\\frac{\\sqrt{6}}{\\sqrt{n_{in} + n_{out}}}, \\frac{\\sqrt{6}}{\\sqrt{n_{in} + n_{out}}}]$$\n",
    "\n",
    "где: \n",
    "\n",
    "* $n_{in}$ -- размер входа (в нейронах) 28x28\n",
    "* $n_{out}$ -- размер выхода (в нейронах) 10\n",
    "\n",
    "Подумайте над выбором $n_{in}$ и $n_{out}$ самостоятельно. "
   ]
  },
  {
   "cell_type": "code",
   "execution_count": 239,
   "metadata": {
    "colab": {
     "base_uri": "https://localhost:8080/",
     "height": 108
    },
    "id": "jJKLJoh0xKnv",
    "outputId": "c288f3ee-103b-464b-f54e-eef93d16d898"
   },
   "outputs": [
    {
     "name": "stderr",
     "output_type": "stream",
     "text": [
      "/usr/local/lib/python3.6/dist-packages/ipykernel_launcher.py:4: UserWarning: To copy construct from a tensor, it is recommended to use sourceTensor.clone().detach() or sourceTensor.clone().detach().requires_grad_(True), rather than torch.tensor(sourceTensor).\n",
      "  after removing the cwd from sys.path.\n",
      "/usr/local/lib/python3.6/dist-packages/ipykernel_launcher.py:7: UserWarning: To copy construct from a tensor, it is recommended to use sourceTensor.clone().detach() or sourceTensor.clone().detach().requires_grad_(True), rather than torch.tensor(sourceTensor).\n",
      "  import sys\n"
     ]
    }
   ],
   "source": [
    "boarder = 6*.5/(28*28+10)\n",
    "weights = torch.empty(28*28,10)\n",
    "torch.nn.init.uniform_(weights, -boarder, boarder)\n",
    "weights = torch.tensor(weights, requires_grad=True)\n",
    "intercept  = torch.empty(1,10)\n",
    "torch.nn.init.uniform_(intercept , -boarder, boarder)\n",
    "intercept  = torch.tensor(intercept , requires_grad=False)\n",
    "params = [weights, intercept]"
   ]
  },
  {
   "cell_type": "code",
   "execution_count": 240,
   "metadata": {
    "id": "7rM1HTbzVONA"
   },
   "outputs": [],
   "source": [
    "optimizer = Adam(params)\n",
    "loss = torch.nn.CrossEntropyLoss()"
   ]
  },
  {
   "cell_type": "markdown",
   "metadata": {
    "id": "wHM7Gwh9xKod"
   },
   "source": [
    "Загрузим данные и создадим даталоадеры:"
   ]
  },
  {
   "cell_type": "code",
   "execution_count": 241,
   "metadata": {
    "id": "hrhOitMuxKog"
   },
   "outputs": [],
   "source": [
    "train_dataset = torchvision.datasets.FashionMNIST(\n",
    "    './data',\n",
    "    download=True,\n",
    "    transform = torchvision.transforms.Compose([torchvision.transforms.ToTensor()])\n",
    ")\n",
    "train_loader = torch.utils.data.DataLoader(train_dataset,\n",
    "                                               batch_size=128,\n",
    "                                               shuffle=True,\n",
    "                                               num_workers=1)\n",
    "\n",
    "test_dataset = torchvision.datasets.FashionMNIST(\n",
    "    './data',\n",
    "    train=False,\n",
    "    download=True,\n",
    "    transform = torchvision.transforms.Compose([torchvision.transforms.ToTensor()])\n",
    ")\n",
    "\n",
    "test_loader = torch.utils.data.DataLoader(test_dataset,\n",
    "                                               batch_size=128,\n",
    "                                               num_workers=1)"
   ]
  },
  {
   "cell_type": "markdown",
   "metadata": {
    "id": "y6BNo-eVxKop"
   },
   "source": [
    "Напишите функцию для тренировки логистической регрессии, она должна: \n",
    "    * Делать предсказания \n",
    "    * Считать лосс \n",
    "    * Подсчитывать градиенты\n",
    "    * Делать шаг оптимизации\n",
    "    * Обнулять посчитанные градиенты\n",
    "    * Считать метрики \n",
    "    * Возвращать полученные метрики\n",
    "    \n",
    "После этого предусмотрите возможность визуализировать метрики, чтобы нарисовать картинки, а именно от вас требуется визуализировать: \n",
    "\n",
    "    * Зависимость лосса от количества итераций\n",
    "    * Зависимость доли правильных ответов от количества итераций"
   ]
  },
  {
   "cell_type": "code",
   "execution_count": 242,
   "metadata": {
    "id": "L4LyGn5Lbgfj"
   },
   "outputs": [],
   "source": [
    "def train_logistic_regression(w, b, batch, loss, optimizer):\n",
    "    images = batch[0].view(-1, 28*28).requires_grad_()\n",
    "    labels = batch[1]\n",
    "    optimizer.zero_grad()\n",
    "    outputs = torch.sigmoid(torch.mm(images, w) + b)\n",
    "    loss_rate = loss(outputs, labels)\n",
    "    loss_rate.backward()\n",
    "    optimizer.step()   "
   ]
  },
  {
   "cell_type": "code",
   "execution_count": 243,
   "metadata": {
    "id": "NjxE0Q8VdE-_"
   },
   "outputs": [],
   "source": [
    "accuracy_list = []\n",
    "loss_list = []"
   ]
  },
  {
   "cell_type": "code",
   "execution_count": 244,
   "metadata": {
    "colab": {
     "base_uri": "https://localhost:8080/",
     "height": 1000
    },
    "id": "1N_KRg9GtcIq",
    "outputId": "7ede4c83-1027-46ff-fd1a-997291fb669e"
   },
   "outputs": [
    {
     "name": "stdout",
     "output_type": "stream",
     "text": [
      "Эпоха: 1, Лосс: 1.643981695175171, Точность: 73.06%\n",
      "Эпоха: 2, Лосс: 1.6149747371673584, Точность: 74.85%\n",
      "Эпоха: 3, Лосс: 1.5915769338607788, Точность: 76.50%\n",
      "Эпоха: 4, Лосс: 1.577332615852356, Точность: 77.83%\n",
      "Эпоха: 5, Лосс: 1.5756559371948242, Точность: 78.78%\n",
      "Эпоха: 6, Лосс: 1.5668364763259888, Точность: 79.58%\n",
      "Эпоха: 7, Лосс: 1.5510640144348145, Точность: 79.63%\n",
      "Эпоха: 8, Лосс: 1.5581793785095215, Точность: 80.84%\n",
      "Эпоха: 9, Лосс: 1.5618046522140503, Точность: 81.18%\n",
      "Эпоха: 10, Лосс: 1.5438768863677979, Точность: 81.48%\n",
      "Эпоха: 11, Лосс: 1.547132134437561, Точность: 81.44%\n",
      "Эпоха: 12, Лосс: 1.546970248222351, Точность: 81.94%\n",
      "Эпоха: 13, Лосс: 1.5420019626617432, Точность: 81.74%\n",
      "Эпоха: 14, Лосс: 1.5345420837402344, Точность: 81.85%\n",
      "Эпоха: 15, Лосс: 1.5382133722305298, Точность: 82.29%\n",
      "Эпоха: 16, Лосс: 1.5383878946304321, Точность: 82.17%\n",
      "Эпоха: 17, Лосс: 1.534601092338562, Точность: 82.19%\n",
      "Эпоха: 18, Лосс: 1.5374339818954468, Точность: 82.50%\n",
      "Эпоха: 19, Лосс: 1.536522388458252, Точность: 82.59%\n",
      "Эпоха: 20, Лосс: 1.5337599515914917, Точность: 82.28%\n",
      "Эпоха: 21, Лосс: 1.539368748664856, Точность: 82.56%\n",
      "Эпоха: 22, Лосс: 1.542056679725647, Точность: 82.90%\n",
      "Эпоха: 23, Лосс: 1.533793330192566, Точность: 82.83%\n",
      "Эпоха: 24, Лосс: 1.53363835811615, Точность: 82.72%\n",
      "Эпоха: 25, Лосс: 1.5349113941192627, Точность: 82.90%\n",
      "Эпоха: 26, Лосс: 1.5379630327224731, Точность: 82.91%\n",
      "Эпоха: 27, Лосс: 1.5299248695373535, Точность: 82.89%\n",
      "Эпоха: 28, Лосс: 1.531583309173584, Точность: 82.65%\n",
      "Эпоха: 29, Лосс: 1.5353363752365112, Точность: 82.98%\n",
      "Эпоха: 30, Лосс: 1.5307033061981201, Точность: 82.85%\n",
      "Эпоха: 31, Лосс: 1.5356624126434326, Точность: 82.94%\n",
      "Эпоха: 32, Лосс: 1.5343778133392334, Точность: 83.04%\n",
      "Эпоха: 33, Лосс: 1.5339410305023193, Точность: 82.96%\n",
      "Эпоха: 34, Лосс: 1.5277032852172852, Точность: 83.01%\n",
      "Эпоха: 35, Лосс: 1.5347068309783936, Точность: 83.06%\n",
      "Эпоха: 36, Лосс: 1.5379626750946045, Точность: 83.14%\n",
      "Эпоха: 37, Лосс: 1.5310099124908447, Точность: 82.90%\n",
      "Эпоха: 38, Лосс: 1.534471035003662, Точность: 83.10%\n",
      "Эпоха: 39, Лосс: 1.5327081680297852, Точность: 83.03%\n",
      "Эпоха: 40, Лосс: 1.533682107925415, Точность: 83.29%\n",
      "Эпоха: 41, Лосс: 1.5342479944229126, Точность: 83.13%\n",
      "Эпоха: 42, Лосс: 1.5341877937316895, Точность: 83.22%\n",
      "Эпоха: 43, Лосс: 1.5336960554122925, Точность: 83.26%\n",
      "Эпоха: 44, Лосс: 1.5368298292160034, Точность: 83.45%\n",
      "Эпоха: 45, Лосс: 1.5308730602264404, Точность: 83.00%\n",
      "Эпоха: 46, Лосс: 1.5357460975646973, Точность: 83.16%\n",
      "Эпоха: 47, Лосс: 1.5331552028656006, Точность: 83.24%\n",
      "Эпоха: 48, Лосс: 1.535569667816162, Точность: 83.21%\n",
      "Эпоха: 49, Лосс: 1.5425881147384644, Точность: 83.19%\n",
      "Эпоха: 50, Лосс: 1.5340030193328857, Точность: 83.40%\n",
      "Эпоха: 51, Лосс: 1.5353031158447266, Точность: 83.36%\n",
      "Эпоха: 52, Лосс: 1.535123586654663, Точность: 83.19%\n",
      "Эпоха: 53, Лосс: 1.5387741327285767, Точность: 83.18%\n",
      "Эпоха: 54, Лосс: 1.5362592935562134, Точность: 83.21%\n",
      "Эпоха: 55, Лосс: 1.5361156463623047, Точность: 83.36%\n",
      "Эпоха: 56, Лосс: 1.5411813259124756, Точность: 83.26%\n",
      "Эпоха: 57, Лосс: 1.539610505104065, Точность: 83.42%\n",
      "Эпоха: 58, Лосс: 1.5351591110229492, Точность: 83.44%\n",
      "Эпоха: 59, Лосс: 1.5392214059829712, Точность: 83.32%\n",
      "Эпоха: 60, Лосс: 1.5373437404632568, Точность: 83.40%\n",
      "Эпоха: 61, Лосс: 1.531803846359253, Точность: 83.24%\n",
      "Эпоха: 62, Лосс: 1.5369701385498047, Точность: 83.20%\n",
      "Эпоха: 63, Лосс: 1.5410640239715576, Точность: 83.26%\n",
      "Эпоха: 64, Лосс: 1.5364172458648682, Точность: 83.39%\n",
      "Эпоха: 65, Лосс: 1.5407066345214844, Точность: 83.14%\n",
      "Эпоха: 66, Лосс: 1.5397344827651978, Точность: 83.43%\n",
      "Эпоха: 67, Лосс: 1.5418628454208374, Точность: 83.35%\n",
      "Эпоха: 68, Лосс: 1.5405114889144897, Точность: 83.44%\n",
      "Эпоха: 69, Лосс: 1.5335451364517212, Точность: 83.27%\n",
      "Эпоха: 70, Лосс: 1.5381900072097778, Точность: 83.41%\n",
      "Эпоха: 71, Лосс: 1.5392156839370728, Точность: 83.50%\n",
      "Эпоха: 72, Лосс: 1.53886079788208, Точность: 83.41%\n",
      "Эпоха: 73, Лосс: 1.5398128032684326, Точность: 83.34%\n",
      "Эпоха: 74, Лосс: 1.5406492948532104, Точность: 83.55%\n",
      "Эпоха: 75, Лосс: 1.5339021682739258, Точность: 83.16%\n",
      "Эпоха: 76, Лосс: 1.5361806154251099, Точность: 83.37%\n",
      "Эпоха: 77, Лосс: 1.542985439300537, Точность: 83.43%\n",
      "Эпоха: 78, Лосс: 1.5460689067840576, Точность: 83.47%\n",
      "Эпоха: 79, Лосс: 1.547837257385254, Точность: 83.23%\n",
      "Эпоха: 80, Лосс: 1.5417805910110474, Точность: 83.48%\n",
      "Эпоха: 81, Лосс: 1.531770944595337, Точность: 83.26%\n",
      "Эпоха: 82, Лосс: 1.545243740081787, Точность: 83.35%\n",
      "Эпоха: 83, Лосс: 1.5490937232971191, Точность: 83.25%\n",
      "Эпоха: 84, Лосс: 1.5326803922653198, Точность: 83.32%\n",
      "Эпоха: 85, Лосс: 1.5437999963760376, Точность: 83.13%\n",
      "Эпоха: 86, Лосс: 1.5414435863494873, Точность: 83.23%\n",
      "Эпоха: 87, Лосс: 1.5361160039901733, Точность: 83.12%\n",
      "Эпоха: 88, Лосс: 1.5415067672729492, Точность: 83.27%\n",
      "Эпоха: 89, Лосс: 1.5480951070785522, Точность: 83.28%\n",
      "Эпоха: 90, Лосс: 1.5414612293243408, Точность: 83.27%\n",
      "Эпоха: 91, Лосс: 1.5431029796600342, Точность: 83.41%\n",
      "Эпоха: 92, Лосс: 1.5500959157943726, Точность: 83.38%\n",
      "Эпоха: 93, Лосс: 1.5429497957229614, Точность: 83.34%\n",
      "Эпоха: 94, Лосс: 1.5382280349731445, Точность: 83.29%\n",
      "Эпоха: 95, Лосс: 1.5481836795806885, Точность: 83.14%\n",
      "Эпоха: 96, Лосс: 1.5442063808441162, Точность: 83.36%\n",
      "Эпоха: 97, Лосс: 1.560089111328125, Точность: 83.39%\n",
      "Эпоха: 98, Лосс: 1.5452015399932861, Точность: 83.30%\n",
      "Эпоха: 99, Лосс: 1.5457053184509277, Точность: 83.37%\n",
      "Эпоха: 100, Лосс: 1.5461009740829468, Точность: 83.40%\n"
     ]
    }
   ],
   "source": [
    "for epoch in range(100):\n",
    "    for batch in train_loader:\n",
    "        bias = intercept\n",
    "        metrics = train_logistic_regression(weights, bias, batch, loss, optimizer)         \n",
    "    correct = 0\n",
    "    total = 0\n",
    "    for images, labels in test_loader:\n",
    "        images = images.view(-1, 28*28).requires_grad_()\n",
    "        outputs = torch.sigmoid(torch.mm(images, weights) + intercept)\n",
    "        _, predicted = torch.max(outputs.data, 1)\n",
    "        total += labels.size(0)\n",
    "        correct += (predicted == labels).sum()\n",
    "        loss_rate = loss(outputs, labels)\n",
    "    \n",
    "    print('Эпоха: {}, Лосс: {}, Точность: {:.2%}'.format(epoch+1, loss_rate.item(), np.true_divide(correct, total)))\n",
    "    accuracy_list.append(np.true_divide(correct, total))\n",
    "    loss_list.append(loss_rate.item())"
   ]
  },
  {
   "cell_type": "markdown",
   "metadata": {
    "id": "optytOMfxKpR"
   },
   "source": [
    "#### Вопросы к секции: \n",
    "\n",
    "* Своими словами и без математики объясните благодаря чему Adam дает несмещенную оценку на квадрат градиента\n",
    "* Когда модель начала переобучаться? Как вы это поняли? Сделайте визуализацию и докажите свою точку зрения."
   ]
  },
  {
   "cell_type": "markdown",
   "metadata": {
    "id": "Qxt7GttxHsAV"
   },
   "source": [
    "1. Из-за отсутсвия коэффициентов $\\hat{m}$ и $\\hat{v}$ в Adagrad и PMSprop не предусмотрена несмещенная оценка на квадрат градиента, можно математически доказать, что E[$g^2$]*(1 - $\\beta_2 $)= E[$v_{t}$] с помощью геомерической прогрессии, таким образом $\\hat{v}$ сказаывается на начало работы алгоритма и дает несмещенную оценку на квадрат градиента как и $\\hat{m}$ "
   ]
  },
  {
   "cell_type": "markdown",
   "metadata": {
    "id": "6Aj5xy65BTNm"
   },
   "source": [
    "На графиках видно что после 25 эпохи loss и accuracy начинает увеличиваться тем самым можно сделать вывод, что логистической регрессии для наилучшего обучения понадобилось 25 эпох"
   ]
  },
  {
   "cell_type": "code",
   "execution_count": 245,
   "metadata": {
    "colab": {
     "base_uri": "https://localhost:8080/",
     "height": 457
    },
    "id": "iV5j8UonAAGZ",
    "outputId": "905dd6d0-6431-407f-df70-cf7f61d71e9d"
   },
   "outputs": [
    {
     "data": {
      "image/png": "[encoded data removed]",
      "text/plain": [
       "<Figure size 504x504 with 1 Axes>"
      ]
     },
     "metadata": {
      "needs_background": "light",
      "tags": []
     },
     "output_type": "display_data"
    }
   ],
   "source": [
    "plt.figure(figsize=(7,7))\n",
    "plt.plot(loss_list, color='g')\n",
    "plt.title('loss')\n",
    "plt.xlabel('epoch')\n",
    "plt.ylabel('score')\n",
    "plt.grid(True)\n",
    "plt.show()"
   ]
  },
  {
   "cell_type": "code",
   "execution_count": 246,
   "metadata": {
    "colab": {
     "base_uri": "https://localhost:8080/",
     "height": 457
    },
    "id": "FAzRPTpLAKg9",
    "outputId": "6833344c-75c8-4f3f-c039-96b0187acdf2"
   },
   "outputs": [
    {
     "data": {
      "image/png": "[encoded data removed]",
      "text/plain": [
       "<Figure size 504x504 with 1 Axes>"
      ]
     },
     "metadata": {
      "needs_background": "light",
      "tags": []
     },
     "output_type": "display_data"
    }
   ],
   "source": [
    "plt.figure(figsize=(7,7))\n",
    "plt.plot(accuracy_list)\n",
    "plt.title('accuracy')\n",
    "plt.xlabel('epoch')\n",
    "plt.ylabel('score')\n",
    "plt.grid(True)\n",
    "plt.show()"
   ]
  },
  {
   "cell_type": "markdown",
   "metadata": {
    "id": "AvXdhfW6xKpS"
   },
   "source": [
    "### Моя первая нейросеть (4 балла)"
   ]
  },
  {
   "cell_type": "markdown",
   "metadata": {
    "id": "S0paWZQrxKpU"
   },
   "source": [
    "В данной секции вам нужно сделать следующие вещи: \n",
    "\n",
    "* Реализовать три разных архитектуры нейросетей. Эти архитектуры должны принципиально отличаться друг от друга. Разрешается одной из архитекур брать полностью полносвязную модель. Остальные две должны быть сверточными и сильно отличаться друг от друга. К примеру, одна из таких архитектур может быть VGG подобная сеть, а другая ResNet подобная архитектура. \n",
    "\n",
    "* Написать цикл для обучения которым можно обучать все три модели без изменений кода\n",
    "\n",
    "* Попробовать каждую модель с двумя оптимизаторами: RMSprop и SGD with momentum\n",
    "\n",
    "* Визуализировать результаты перфоманса каждой модели (две метрики минимум для каждого сетапа, например, лосс и долю правильных ответов). В данном пункте мы ждем от вас визуализацию зависимости метрики от номера итерации обучения.\n",
    "\n",
    "* Сделать выводы какие были модели были лучше и как вы думаете почему?"
   ]
  },
  {
   "cell_type": "code",
   "execution_count": 247,
   "metadata": {
    "id": "x2LJRgH-xKpa"
   },
   "outputs": [],
   "source": [
    "def train_model(model, train_loader, test_loader, optimizer):\n",
    "    epoch = 0\n",
    "    l = []\n",
    "    a = []\n",
    "    print(model[0])\n",
    "    print(optimizer)\n",
    "    if model[0] == 'ResNet' and optimizer == 'SGD':\n",
    "      optim = torch.optim.SGD(model[1]().parameters(), lr=0.01, momentum=0.9)\n",
    "    elif model[0] == 'ResNet' and optimizer == 'RMSprop':\n",
    "      optim = torch.optim.RMSprop(model[1]().parameters(), lr=0.001)\n",
    "    elif optimizer == 'SGD':\n",
    "        optim = torch.optim.SGD(model[1].parameters(), lr=0.01, momentum=0.9)\n",
    "    elif optimizer == 'RMSprop':\n",
    "        optim = torch.optim.RMSprop(model[1].parameters(), lr=0.001)\n",
    "    model = model[1]\n",
    "    for epoch in range(5):\n",
    "        for x_train, y_train in train_loader: \n",
    "            x_train = x_train.view(x_train.shape[0], -1)\n",
    "            y_pred = model(x_train) \n",
    "            loss = torch.nn.CrossEntropyLoss()(y_pred, y_train) \n",
    "            optim.zero_grad() \n",
    "            loss.backward() \n",
    "            optim.step() \n",
    "            \n",
    "            loss_list = [] \n",
    "            accuracy_list = [] \n",
    "        for x_test, y_test in test_loader:\n",
    "              y_pred = model(x_test) \n",
    "              loss_list.append(loss.item()) \n",
    "              accuracy_list.extend((torch.argmax(y_pred.data, dim=-1) == y_test.data).numpy().tolist())\n",
    "        print('Epoch: {}, loss: {}, accuracy: {:.2%}'.format(epoch+1, np.mean(loss_list), np.mean(accuracy_list)))\n",
    "        \n",
    "        l.append(np.mean(loss_list))\n",
    "        a.append(np.mean(accuracy_list))\n",
    "    return [l, a]"
   ]
  },
  {
   "cell_type": "code",
   "execution_count": 248,
   "metadata": {
    "id": "SfQ90yCixKpi"
   },
   "outputs": [],
   "source": [
    "# ResNet\n",
    "class first_model(nn.Module):\n",
    "   def __init__(self):\n",
    "       super(first_model, self).__init__()\n",
    "       self.fc0 = nn.Conv2d(1, 128, 3, padding=1)\n",
    "       self.fc1 = nn.Linear(28 * 28, 200)\n",
    "       self.fc2 = nn.Linear(200, 200)\n",
    "       self.fc3 = nn.Linear(200, 10)\n",
    "   def forward(self, x):\n",
    "        x = self.fc0(x)\n",
    "        x = F.relu(self.fc1(x))\n",
    "        x = F.relu(self.fc2(x))\n",
    "        x = self.fc3(self.fc1(x))\n",
    "        return F.log_softmax(x)"
   ]
  },
  {
   "cell_type": "code",
   "execution_count": 249,
   "metadata": {
    "id": "AvRHdEQUxKqn"
   },
   "outputs": [],
   "source": [
    "# полносвязная модель\n",
    "second_model = nn.Sequential(\n",
    "    torch.nn.Flatten(),\n",
    "    torch.nn.Linear(28*28, 128),\n",
    "    torch.nn.ReLU(),\n",
    "    torch.nn.Linear(128, 10),\n",
    "    torch.nn.Softmax(dim=-1)\n",
    ")"
   ]
  },
  {
   "cell_type": "code",
   "execution_count": 250,
   "metadata": {
    "id": "WmMMwszsxKrM"
   },
   "outputs": [],
   "source": [
    "# VGG\n",
    "third_model = torch.nn.Sequential(\n",
    "    torch.nn.Flatten(),\n",
    "    torch.nn.Linear(28*28, 28*28),\n",
    "    torch.nn.Sequential(nn.ReLU(True), nn.Dropout()),\n",
    "    torch.nn.Linear(28*28, 28),\n",
    "    torch.nn.Sequential(nn.ReLU(True), nn.Dropout()),\n",
    "    torch.nn.Linear(28, 10),\n",
    ")"
   ]
  },
  {
   "cell_type": "code",
   "execution_count": 251,
   "metadata": {
    "colab": {
     "base_uri": "https://localhost:8080/",
     "height": 142
    },
    "id": "UJPCFjlNxKrY",
    "outputId": "f037ac91-ea1c-47f9-bed5-4ab831a431f3"
   },
   "outputs": [
    {
     "name": "stdout",
     "output_type": "stream",
     "text": [
      "Полносвязная модель\n",
      "RMSprop\n",
      "Epoch: 1, loss: 1.6911042928695679, accuracy: 77.10%\n",
      "Epoch: 2, loss: 1.6728154420852661, accuracy: 78.43%\n",
      "Epoch: 3, loss: 1.7049657106399536, accuracy: 78.85%\n",
      "Epoch: 4, loss: 1.7402359247207642, accuracy: 79.17%\n",
      "Epoch: 5, loss: 1.7065258026123047, accuracy: 79.73%\n"
     ]
    }
   ],
   "source": [
    "# train and visualize and write summary down there\n",
    "loss_RMS_1, accuracy_RMS_1 = train_model(['Полносвязная модель', second_model], train_loader, test_loader, optimizer ='RMSprop')"
   ]
  },
  {
   "cell_type": "code",
   "execution_count": 252,
   "metadata": {
    "colab": {
     "base_uri": "https://localhost:8080/",
     "height": 142
    },
    "id": "3ytZ-xYCt1lZ",
    "outputId": "db72f422-1a9d-44e5-bdfb-17a1f51973c0"
   },
   "outputs": [
    {
     "name": "stdout",
     "output_type": "stream",
     "text": [
      "Полносвязная модель\n",
      "SGD\n",
      "Epoch: 1, loss: 1.6885385513305664, accuracy: 80.28%\n",
      "Epoch: 2, loss: 1.6549400091171265, accuracy: 80.30%\n",
      "Epoch: 3, loss: 1.6316806077957153, accuracy: 80.01%\n",
      "Epoch: 4, loss: 1.6693129539489746, accuracy: 80.25%\n",
      "Epoch: 5, loss: 1.626418948173523, accuracy: 80.36%\n"
     ]
    }
   ],
   "source": [
    "loss_SGD_1, accuracy_SGD_1 = train_model(['Полносвязная модель', second_model], train_loader, test_loader, optimizer ='SGD')"
   ]
  },
  {
   "cell_type": "code",
   "execution_count": 253,
   "metadata": {
    "colab": {
     "base_uri": "https://localhost:8080/",
     "height": 142
    },
    "id": "uvW_obqG_nYt",
    "outputId": "b024fcc7-3bfe-4600-f217-39c6c7fb312f"
   },
   "outputs": [
    {
     "name": "stdout",
     "output_type": "stream",
     "text": [
      "VGG\n",
      "SGD\n",
      "Epoch: 1, loss: 0.680986225605011, accuracy: 69.61%\n",
      "Epoch: 2, loss: 0.8638575673103333, accuracy: 74.87%\n",
      "Epoch: 3, loss: 0.6519922018051147, accuracy: 76.48%\n",
      "Epoch: 4, loss: 0.6247259974479675, accuracy: 78.05%\n",
      "Epoch: 5, loss: 0.5637227296829224, accuracy: 79.77%\n"
     ]
    }
   ],
   "source": [
    "loss_SGD_2, accuracy_SGD_2 = train_model(['VGG', third_model], train_loader, test_loader, optimizer ='SGD')"
   ]
  },
  {
   "cell_type": "code",
   "execution_count": 254,
   "metadata": {
    "colab": {
     "base_uri": "https://localhost:8080/",
     "height": 142
    },
    "id": "fTJ5pLQcFS5X",
    "outputId": "c6f261f6-770f-4f05-be00-facb4a1aa281"
   },
   "outputs": [
    {
     "name": "stdout",
     "output_type": "stream",
     "text": [
      "VGG\n",
      "RMSprop\n",
      "Epoch: 1, loss: 0.5835714936256409, accuracy: 76.32%\n",
      "Epoch: 2, loss: 0.4444028437137604, accuracy: 80.22%\n",
      "Epoch: 3, loss: 0.5478107929229736, accuracy: 78.94%\n",
      "Epoch: 4, loss: 0.3344469964504242, accuracy: 81.00%\n",
      "Epoch: 5, loss: 0.521761953830719, accuracy: 81.05%\n"
     ]
    }
   ],
   "source": [
    "loss_RMS_2, accuracy_RMS_2 = train_model(['VGG', third_model], train_loader, test_loader, optimizer ='RMSprop')"
   ]
  },
  {
   "cell_type": "code",
   "execution_count": 255,
   "metadata": {
    "colab": {
     "base_uri": "https://localhost:8080/",
     "height": 607
    },
    "id": "MnVSgZwNWZac",
    "outputId": "6c1efaae-de6b-4edb-af8f-d90783e4f1e9"
   },
   "outputs": [
    {
     "data": {
      "image/png": "[encoded data removed]",
      "text/plain": [
       "<Figure size 720x720 with 1 Axes>"
      ]
     },
     "metadata": {
      "needs_background": "light",
      "tags": []
     },
     "output_type": "display_data"
    }
   ],
   "source": [
    "plt.figure(figsize=(10, 10))\n",
    "plt.plot(loss_RMS_2, label='RMSprop VGG')\n",
    "plt.plot(loss_RMS_1, label='RMSprop Poln')\n",
    "plt.plot(loss_SGD_1, label='SGD Poln')\n",
    "plt.plot(loss_SGD_2, label='SGD VGG')\n",
    "plt.legend()\n",
    "plt.title('Loss')\n",
    "plt.grid(True)\n",
    "plt.show()"
   ]
  },
  {
   "cell_type": "code",
   "execution_count": 256,
   "metadata": {
    "colab": {
     "base_uri": "https://localhost:8080/",
     "height": 607
    },
    "id": "c2wEN1puXiZB",
    "outputId": "f1d7199c-7afb-481a-90ce-3fbc70a2d385"
   },
   "outputs": [
    {
     "data": {
      "image/png": "[encoded data removed]",
      "text/plain": [
       "<Figure size 720x720 with 1 Axes>"
      ]
     },
     "metadata": {
      "needs_background": "light",
      "tags": []
     },
     "output_type": "display_data"
    }
   ],
   "source": [
    "plt.figure(figsize=(10, 10))\n",
    "plt.plot(accuracy_RMS_1, label='Rmsprop Poln')\n",
    "plt.plot(accuracy_RMS_2, label='Rmsprop VGG')\n",
    "plt.plot(accuracy_SGD_1, label='SGD Poln')\n",
    "plt.plot(accuracy_SGD_2, label='SGD VGG')\n",
    "plt.legend()\n",
    "plt.title('Accuracy')\n",
    "plt.grid(True)\n",
    "plt.show()"
   ]
  },
  {
   "cell_type": "markdown",
   "metadata": {
    "id": "zf6fVkvEa_Ez"
   },
   "source": [
    "В целом лучше себя показала VGG так как она показала наилучшую точность и мелньшмй лосс в силу дополнительных слоёв и нелмнейных функций внутри себя"
   ]
  }
 ],
 "metadata": {
  "colab": {
   "collapsed_sections": [],
   "name": "hw1 (1).ipynb",
   "provenance": []
  },
  "kernelspec": {
   "display_name": "Python 2",
   "language": "python",
   "name": "python2"
  },
  "language_info": {
   "codemirror_mode": {
    "name": "ipython",
    "version": 2
   },
   "file_extension": ".py",
   "mimetype": "text/x-python",
   "name": "python",
   "nbconvert_exporter": "python",
   "pygments_lexer": "ipython2",
   "version": "2.7.6"
  }
 },
 "nbformat": 4,
 "nbformat_minor": 1
}
