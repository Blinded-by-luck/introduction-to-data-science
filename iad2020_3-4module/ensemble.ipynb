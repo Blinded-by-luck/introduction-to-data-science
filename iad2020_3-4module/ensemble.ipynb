{
  "nbformat": 4,
  "nbformat_minor": 0,
  "metadata": {
    "kernelspec": {
      "display_name": "Python 3",
      "language": "python",
      "name": "python3"
    },
    "language_info": {
      "codemirror_mode": {
        "name": "ipython",
        "version": 3
      },
      "file_extension": ".py",
      "mimetype": "text/x-python",
      "name": "python",
      "nbconvert_exporter": "python",
      "pygments_lexer": "ipython3",
      "version": "3.7.4"
    },
    "colab": {
      "name": "homework-03.ipynb",
      "provenance": []
    }
  },
  "cells": [
    {
      "cell_type": "markdown",
      "metadata": {
        "id": "ZzdNuB4zjpar",
        "colab_type": "text"
      },
      "source": [
        "## Домашнее задание № 4"
      ]
    },
    {
      "cell_type": "markdown",
      "metadata": {
        "id": "0poaTI1jjpaz",
        "colab_type": "text"
      },
      "source": [
        "### Ансамблевые методы "
      ]
    },
    {
      "cell_type": "markdown",
      "metadata": {
        "id": "TSk_sjH8jpa0",
        "colab_type": "text"
      },
      "source": [
        "**Дедлайн: 3.06.2020 0:30** \n",
        "Сопровождайте код изображениями и комментариями. Не игнорируйте вопросы, ваши выводы тоже оцениваются. Чем больше информации вы сможете извлечь, аргументированных выводов сформулировать, тем лучше. Не забывайте подписывать графики и будет вам счастье!\n",
        "\n",
        "**Максимальный балл: 10**"
      ]
    },
    {
      "cell_type": "code",
      "metadata": {
        "ExecuteTime": {
          "end_time": "2020-05-17T00:15:19.512036Z",
          "start_time": "2020-05-17T00:15:14.993278Z"
        },
        "id": "XtoBOOhyjpa2",
        "colab_type": "code",
        "colab": {}
      },
      "source": [
        "import pandas as pd\n",
        "import numpy as np\n",
        "import matplotlib.pyplot as plt\n",
        "import seaborn as sns\n",
        "import os\n",
        "\n",
        "%matplotlib inline"
      ],
      "execution_count": 0,
      "outputs": []
    },
    {
      "cell_type": "markdown",
      "metadata": {
        "id": "cJgWQvZajpbY",
        "colab_type": "text"
      },
      "source": [
        "**0. (0 баллов) ** Загрузите [датасет](https://www.kaggle.com/uciml/pima-indians-diabetes-database/data), в нем вы найдете данные опрошенных женщин из индейского племени Пима. Будем решать задачу бинарной классификации: в колонке Outcome лежит метка наличия или отсутствия диабета - это наша целевая переменная. Есть ли пропущенные значения?"
      ]
    },
    {
      "cell_type": "code",
      "metadata": {
        "ExecuteTime": {
          "end_time": "2020-05-17T10:01:14.609345Z",
          "start_time": "2020-05-17T10:01:14.469580Z"
        },
        "id": "scvuDhuHjpbc",
        "colab_type": "code",
        "colab": {
          "base_uri": "https://localhost:8080/",
          "height": 406
        },
        "outputId": "92416cd5-2673-4084-fe55-3adcee8aa387"
      },
      "source": [
        "data = pd.read_csv('diabetes.csv')\n",
        "data"
      ],
      "execution_count": 13,
      "outputs": [
        {
          "output_type": "execute_result",
          "data": {
            "text/html": [
              "<div>\n",
              "<style scoped>\n",
              "    .dataframe tbody tr th:only-of-type {\n",
              "        vertical-align: middle;\n",
              "    }\n",
              "\n",
              "    .dataframe tbody tr th {\n",
              "        vertical-align: top;\n",
              "    }\n",
              "\n",
              "    .dataframe thead th {\n",
              "        text-align: right;\n",
              "    }\n",
              "</style>\n",
              "<table border=\"1\" class=\"dataframe\">\n",
              "  <thead>\n",
              "    <tr style=\"text-align: right;\">\n",
              "      <th></th>\n",
              "      <th>Pregnancies</th>\n",
              "      <th>Glucose</th>\n",
              "      <th>BloodPressure</th>\n",
              "      <th>SkinThickness</th>\n",
              "      <th>Insulin</th>\n",
              "      <th>BMI</th>\n",
              "      <th>DiabetesPedigreeFunction</th>\n",
              "      <th>Age</th>\n",
              "      <th>Outcome</th>\n",
              "    </tr>\n",
              "  </thead>\n",
              "  <tbody>\n",
              "    <tr>\n",
              "      <th>0</th>\n",
              "      <td>6</td>\n",
              "      <td>148</td>\n",
              "      <td>72</td>\n",
              "      <td>35</td>\n",
              "      <td>0</td>\n",
              "      <td>33.6</td>\n",
              "      <td>0.627</td>\n",
              "      <td>50</td>\n",
              "      <td>1</td>\n",
              "    </tr>\n",
              "    <tr>\n",
              "      <th>1</th>\n",
              "      <td>1</td>\n",
              "      <td>85</td>\n",
              "      <td>66</td>\n",
              "      <td>29</td>\n",
              "      <td>0</td>\n",
              "      <td>26.6</td>\n",
              "      <td>0.351</td>\n",
              "      <td>31</td>\n",
              "      <td>0</td>\n",
              "    </tr>\n",
              "    <tr>\n",
              "      <th>2</th>\n",
              "      <td>8</td>\n",
              "      <td>183</td>\n",
              "      <td>64</td>\n",
              "      <td>0</td>\n",
              "      <td>0</td>\n",
              "      <td>23.3</td>\n",
              "      <td>0.672</td>\n",
              "      <td>32</td>\n",
              "      <td>1</td>\n",
              "    </tr>\n",
              "    <tr>\n",
              "      <th>3</th>\n",
              "      <td>1</td>\n",
              "      <td>89</td>\n",
              "      <td>66</td>\n",
              "      <td>23</td>\n",
              "      <td>94</td>\n",
              "      <td>28.1</td>\n",
              "      <td>0.167</td>\n",
              "      <td>21</td>\n",
              "      <td>0</td>\n",
              "    </tr>\n",
              "    <tr>\n",
              "      <th>4</th>\n",
              "      <td>0</td>\n",
              "      <td>137</td>\n",
              "      <td>40</td>\n",
              "      <td>35</td>\n",
              "      <td>168</td>\n",
              "      <td>43.1</td>\n",
              "      <td>2.288</td>\n",
              "      <td>33</td>\n",
              "      <td>1</td>\n",
              "    </tr>\n",
              "    <tr>\n",
              "      <th>...</th>\n",
              "      <td>...</td>\n",
              "      <td>...</td>\n",
              "      <td>...</td>\n",
              "      <td>...</td>\n",
              "      <td>...</td>\n",
              "      <td>...</td>\n",
              "      <td>...</td>\n",
              "      <td>...</td>\n",
              "      <td>...</td>\n",
              "    </tr>\n",
              "    <tr>\n",
              "      <th>763</th>\n",
              "      <td>10</td>\n",
              "      <td>101</td>\n",
              "      <td>76</td>\n",
              "      <td>48</td>\n",
              "      <td>180</td>\n",
              "      <td>32.9</td>\n",
              "      <td>0.171</td>\n",
              "      <td>63</td>\n",
              "      <td>0</td>\n",
              "    </tr>\n",
              "    <tr>\n",
              "      <th>764</th>\n",
              "      <td>2</td>\n",
              "      <td>122</td>\n",
              "      <td>70</td>\n",
              "      <td>27</td>\n",
              "      <td>0</td>\n",
              "      <td>36.8</td>\n",
              "      <td>0.340</td>\n",
              "      <td>27</td>\n",
              "      <td>0</td>\n",
              "    </tr>\n",
              "    <tr>\n",
              "      <th>765</th>\n",
              "      <td>5</td>\n",
              "      <td>121</td>\n",
              "      <td>72</td>\n",
              "      <td>23</td>\n",
              "      <td>112</td>\n",
              "      <td>26.2</td>\n",
              "      <td>0.245</td>\n",
              "      <td>30</td>\n",
              "      <td>0</td>\n",
              "    </tr>\n",
              "    <tr>\n",
              "      <th>766</th>\n",
              "      <td>1</td>\n",
              "      <td>126</td>\n",
              "      <td>60</td>\n",
              "      <td>0</td>\n",
              "      <td>0</td>\n",
              "      <td>30.1</td>\n",
              "      <td>0.349</td>\n",
              "      <td>47</td>\n",
              "      <td>1</td>\n",
              "    </tr>\n",
              "    <tr>\n",
              "      <th>767</th>\n",
              "      <td>1</td>\n",
              "      <td>93</td>\n",
              "      <td>70</td>\n",
              "      <td>31</td>\n",
              "      <td>0</td>\n",
              "      <td>30.4</td>\n",
              "      <td>0.315</td>\n",
              "      <td>23</td>\n",
              "      <td>0</td>\n",
              "    </tr>\n",
              "  </tbody>\n",
              "</table>\n",
              "<p>768 rows × 9 columns</p>\n",
              "</div>"
            ],
            "text/plain": [
              "     Pregnancies  Glucose  ...  Age  Outcome\n",
              "0              6      148  ...   50        1\n",
              "1              1       85  ...   31        0\n",
              "2              8      183  ...   32        1\n",
              "3              1       89  ...   21        0\n",
              "4              0      137  ...   33        1\n",
              "..           ...      ...  ...  ...      ...\n",
              "763           10      101  ...   63        0\n",
              "764            2      122  ...   27        0\n",
              "765            5      121  ...   30        0\n",
              "766            1      126  ...   47        1\n",
              "767            1       93  ...   23        0\n",
              "\n",
              "[768 rows x 9 columns]"
            ]
          },
          "metadata": {
            "tags": []
          },
          "execution_count": 13
        }
      ]
    },
    {
      "cell_type": "code",
      "metadata": {
        "id": "Os-Dl6Bvjpbr",
        "colab_type": "code",
        "colab": {
          "base_uri": "https://localhost:8080/",
          "height": 194
        },
        "outputId": "e737c27b-d2d4-4eb8-fcc1-f888212f552b"
      },
      "source": [
        "counter = data.isnull().sum()/data.shape[0]*100\n",
        "print(counter)"
      ],
      "execution_count": 14,
      "outputs": [
        {
          "output_type": "stream",
          "text": [
            "Pregnancies                 0.0\n",
            "Glucose                     0.0\n",
            "BloodPressure               0.0\n",
            "SkinThickness               0.0\n",
            "Insulin                     0.0\n",
            "BMI                         0.0\n",
            "DiabetesPedigreeFunction    0.0\n",
            "Age                         0.0\n",
            "Outcome                     0.0\n",
            "dtype: float64\n"
          ],
          "name": "stdout"
        }
      ]
    },
    {
      "cell_type": "markdown",
      "metadata": {
        "id": "tI7-Q99Yjpb4",
        "colab_type": "text"
      },
      "source": [
        "Пропущеных значений(NaN) нет ни в одной колонке"
      ]
    },
    {
      "cell_type": "markdown",
      "metadata": {
        "id": "auQynmXvjpb9",
        "colab_type": "text"
      },
      "source": [
        "**1. (0.5 балла)** Как вы думаете, является ли наличие нулей в некоторых колонках фактом того, что эти признаки имеют пропущенные значения? Замените нули на среднее значение признака там, где считаете это целесообразным."
      ]
    },
    {
      "cell_type": "code",
      "metadata": {
        "id": "0tIM3Y8djpb_",
        "colab_type": "code",
        "colab": {
          "base_uri": "https://localhost:8080/",
          "height": 176
        },
        "outputId": "a83af05d-3652-48de-ebe2-6ae7abc78c93"
      },
      "source": [
        "for i in data:\n",
        "    counter = len(data[data[i] == 0])/data.shape[0]*100\n",
        "    print(\"Нулей в колонке \", i, \": \", counter,\"%\", sep = '')"
      ],
      "execution_count": 15,
      "outputs": [
        {
          "output_type": "stream",
          "text": [
            "Нулей в колонке Pregnancies: 14.453125%\n",
            "Нулей в колонке Glucose: 0.6510416666666667%\n",
            "Нулей в колонке BloodPressure: 4.557291666666666%\n",
            "Нулей в колонке SkinThickness: 29.557291666666668%\n",
            "Нулей в колонке Insulin: 48.69791666666667%\n",
            "Нулей в колонке BMI: 1.4322916666666665%\n",
            "Нулей в колонке DiabetesPedigreeFunction: 0.0%\n",
            "Нулей в колонке Age: 0.0%\n",
            "Нулей в колонке Outcome: 65.10416666666666%\n"
          ],
          "name": "stdout"
        }
      ]
    },
    {
      "cell_type": "markdown",
      "metadata": {
        "id": "m88gOfMXjpcR",
        "colab_type": "text"
      },
      "source": [
        "* Нули в колонке Pregnancies иметься могут, так как существуют женщины не имеющие беременности  \n",
        "* Нули в колонке Glucose не могут иметься, так как у живого человека количество глюкозы в крови всегда положительное количество (норма 590—1080 мг или 3,3—6,0 ммоль/л), таким образом 0 в колонке означает пропуск (*https://ru.wikipedia.org/wiki/Гликемия*)  \n",
        "* Нули в колонке Insulin не могут иметься, так как у живого человека инсулин всегда положительный (норма 2,7 – 10,4 мкЕд/мл) , таким образом 0 в колонке означает пропуск (*https://yandex.ru/turbo?text=https%3A%2F%2Fhealth.yandex.ru%2Fprocedures%2Fanalysis%2Finsulin&utm_source=yandex&utm_medium=search&utm_campaign=yandex-searchster&utm_content=procedure&saas_webreqid=1590676579298959-1723135733592467775700244-production-app-host-vla-web-yp-75*)\n",
        "* Нули в колонке BloodPressure не могут иметься, так как у живого человека кровянное давление всегда положительное (норма  120 и 80 мм рт. ст.) , таким образом 0 в колонке означает пропуск (*https://ru.wikipedia.org/wiki/Кровяное_давление#Физиология_измеряемых_параметров*)\n",
        "* Нули в колонке SkinThickness не могут иметься, так как у живого человека кровянное давление всегда положительное(норма 0,5 - 5 мм), таким образом 0 в колонке означает пропуск (*https://ru.wikipedia.org/wiki/Кожа*)  \n",
        "* Нули в колонке BMI не могут иметься так как масса тела человека всегда больше 0, таким образом 0 в колонке означает пропуск  \n",
        "* Нули в колонке Outcome могут иметься так как существуют люди не болеющие диабетом  "
      ]
    },
    {
      "cell_type": "code",
      "metadata": {
        "id": "8lDYWrRmjpcU",
        "colab_type": "code",
        "colab": {}
      },
      "source": [
        "for i in ['Glucose', 'SkinThickness', 'BloodPressure', 'Insulin']:\n",
        "    data[i] = np.where(data[i] == 0, data[i][data[i] != 0].mean(), data[i])"
      ],
      "execution_count": 0,
      "outputs": []
    },
    {
      "cell_type": "code",
      "metadata": {
        "id": "9ekwFsvQjpch",
        "colab_type": "code",
        "colab": {
          "base_uri": "https://localhost:8080/",
          "height": 406
        },
        "outputId": "63a7b4b5-9a43-4894-82f6-d606a2aaff3f"
      },
      "source": [
        "data"
      ],
      "execution_count": 17,
      "outputs": [
        {
          "output_type": "execute_result",
          "data": {
            "text/html": [
              "<div>\n",
              "<style scoped>\n",
              "    .dataframe tbody tr th:only-of-type {\n",
              "        vertical-align: middle;\n",
              "    }\n",
              "\n",
              "    .dataframe tbody tr th {\n",
              "        vertical-align: top;\n",
              "    }\n",
              "\n",
              "    .dataframe thead th {\n",
              "        text-align: right;\n",
              "    }\n",
              "</style>\n",
              "<table border=\"1\" class=\"dataframe\">\n",
              "  <thead>\n",
              "    <tr style=\"text-align: right;\">\n",
              "      <th></th>\n",
              "      <th>Pregnancies</th>\n",
              "      <th>Glucose</th>\n",
              "      <th>BloodPressure</th>\n",
              "      <th>SkinThickness</th>\n",
              "      <th>Insulin</th>\n",
              "      <th>BMI</th>\n",
              "      <th>DiabetesPedigreeFunction</th>\n",
              "      <th>Age</th>\n",
              "      <th>Outcome</th>\n",
              "    </tr>\n",
              "  </thead>\n",
              "  <tbody>\n",
              "    <tr>\n",
              "      <th>0</th>\n",
              "      <td>6</td>\n",
              "      <td>148.0</td>\n",
              "      <td>72.0</td>\n",
              "      <td>35.00000</td>\n",
              "      <td>155.548223</td>\n",
              "      <td>33.6</td>\n",
              "      <td>0.627</td>\n",
              "      <td>50</td>\n",
              "      <td>1</td>\n",
              "    </tr>\n",
              "    <tr>\n",
              "      <th>1</th>\n",
              "      <td>1</td>\n",
              "      <td>85.0</td>\n",
              "      <td>66.0</td>\n",
              "      <td>29.00000</td>\n",
              "      <td>155.548223</td>\n",
              "      <td>26.6</td>\n",
              "      <td>0.351</td>\n",
              "      <td>31</td>\n",
              "      <td>0</td>\n",
              "    </tr>\n",
              "    <tr>\n",
              "      <th>2</th>\n",
              "      <td>8</td>\n",
              "      <td>183.0</td>\n",
              "      <td>64.0</td>\n",
              "      <td>29.15342</td>\n",
              "      <td>155.548223</td>\n",
              "      <td>23.3</td>\n",
              "      <td>0.672</td>\n",
              "      <td>32</td>\n",
              "      <td>1</td>\n",
              "    </tr>\n",
              "    <tr>\n",
              "      <th>3</th>\n",
              "      <td>1</td>\n",
              "      <td>89.0</td>\n",
              "      <td>66.0</td>\n",
              "      <td>23.00000</td>\n",
              "      <td>94.000000</td>\n",
              "      <td>28.1</td>\n",
              "      <td>0.167</td>\n",
              "      <td>21</td>\n",
              "      <td>0</td>\n",
              "    </tr>\n",
              "    <tr>\n",
              "      <th>4</th>\n",
              "      <td>0</td>\n",
              "      <td>137.0</td>\n",
              "      <td>40.0</td>\n",
              "      <td>35.00000</td>\n",
              "      <td>168.000000</td>\n",
              "      <td>43.1</td>\n",
              "      <td>2.288</td>\n",
              "      <td>33</td>\n",
              "      <td>1</td>\n",
              "    </tr>\n",
              "    <tr>\n",
              "      <th>...</th>\n",
              "      <td>...</td>\n",
              "      <td>...</td>\n",
              "      <td>...</td>\n",
              "      <td>...</td>\n",
              "      <td>...</td>\n",
              "      <td>...</td>\n",
              "      <td>...</td>\n",
              "      <td>...</td>\n",
              "      <td>...</td>\n",
              "    </tr>\n",
              "    <tr>\n",
              "      <th>763</th>\n",
              "      <td>10</td>\n",
              "      <td>101.0</td>\n",
              "      <td>76.0</td>\n",
              "      <td>48.00000</td>\n",
              "      <td>180.000000</td>\n",
              "      <td>32.9</td>\n",
              "      <td>0.171</td>\n",
              "      <td>63</td>\n",
              "      <td>0</td>\n",
              "    </tr>\n",
              "    <tr>\n",
              "      <th>764</th>\n",
              "      <td>2</td>\n",
              "      <td>122.0</td>\n",
              "      <td>70.0</td>\n",
              "      <td>27.00000</td>\n",
              "      <td>155.548223</td>\n",
              "      <td>36.8</td>\n",
              "      <td>0.340</td>\n",
              "      <td>27</td>\n",
              "      <td>0</td>\n",
              "    </tr>\n",
              "    <tr>\n",
              "      <th>765</th>\n",
              "      <td>5</td>\n",
              "      <td>121.0</td>\n",
              "      <td>72.0</td>\n",
              "      <td>23.00000</td>\n",
              "      <td>112.000000</td>\n",
              "      <td>26.2</td>\n",
              "      <td>0.245</td>\n",
              "      <td>30</td>\n",
              "      <td>0</td>\n",
              "    </tr>\n",
              "    <tr>\n",
              "      <th>766</th>\n",
              "      <td>1</td>\n",
              "      <td>126.0</td>\n",
              "      <td>60.0</td>\n",
              "      <td>29.15342</td>\n",
              "      <td>155.548223</td>\n",
              "      <td>30.1</td>\n",
              "      <td>0.349</td>\n",
              "      <td>47</td>\n",
              "      <td>1</td>\n",
              "    </tr>\n",
              "    <tr>\n",
              "      <th>767</th>\n",
              "      <td>1</td>\n",
              "      <td>93.0</td>\n",
              "      <td>70.0</td>\n",
              "      <td>31.00000</td>\n",
              "      <td>155.548223</td>\n",
              "      <td>30.4</td>\n",
              "      <td>0.315</td>\n",
              "      <td>23</td>\n",
              "      <td>0</td>\n",
              "    </tr>\n",
              "  </tbody>\n",
              "</table>\n",
              "<p>768 rows × 9 columns</p>\n",
              "</div>"
            ],
            "text/plain": [
              "     Pregnancies  Glucose  ...  Age  Outcome\n",
              "0              6    148.0  ...   50        1\n",
              "1              1     85.0  ...   31        0\n",
              "2              8    183.0  ...   32        1\n",
              "3              1     89.0  ...   21        0\n",
              "4              0    137.0  ...   33        1\n",
              "..           ...      ...  ...  ...      ...\n",
              "763           10    101.0  ...   63        0\n",
              "764            2    122.0  ...   27        0\n",
              "765            5    121.0  ...   30        0\n",
              "766            1    126.0  ...   47        1\n",
              "767            1     93.0  ...   23        0\n",
              "\n",
              "[768 rows x 9 columns]"
            ]
          },
          "metadata": {
            "tags": []
          },
          "execution_count": 17
        }
      ]
    },
    {
      "cell_type": "markdown",
      "metadata": {
        "id": "-rKd3xAFjpcu",
        "colab_type": "text"
      },
      "source": [
        "**2. (1 балл)** Визуализируйте распределение признаков по отдельности для больных диабетом и здоровых. Ваши графики должны быть примерно такими:\n",
        "\n",
        "![Image](https://d.radikal.ru/d03/2005/f8/0ffb9443cbcf.png)"
      ]
    },
    {
      "cell_type": "code",
      "metadata": {
        "id": "gIfGBl-Wjpcw",
        "colab_type": "code",
        "colab": {}
      },
      "source": [
        "o1 = data[data.Outcome == 1]\n",
        "o2 = data[data.Outcome == 0]"
      ],
      "execution_count": 0,
      "outputs": []
    },
    {
      "cell_type": "code",
      "metadata": {
        "id": "uXLj3bmdjpc_",
        "colab_type": "code",
        "colab": {
          "base_uri": "https://localhost:8080/",
          "height": 606
        },
        "outputId": "dce71b5a-7926-42df-8f23-e9441c868d0c"
      },
      "source": [
        "o1 = data[data.Outcome == 1]\n",
        "o0 = data[data.Outcome == 0]\n",
        "fig, ax = plt.subplots(3,3, figsize = (10, 10))\n",
        "colum = np.reshape(np.array(data.columns), (3,3))\n",
        "for i in range(3):\n",
        "    for j in range(3):\n",
        "        ax[i][j].hist(o0[colum[i][j]], label = 'Have Diabetes = NO', color = 'green', alpha = 0.5)\n",
        "        ax[i][j].hist(o1[colum[i][j]], label = 'Have Diabetes = YES', color = 'red', alpha =0.4)\n",
        "        ax[i][j].set_title(colum[i][j])\n",
        "        ax[i][j].legend()"
      ],
      "execution_count": 19,
      "outputs": [
        {
          "output_type": "display_data",
          "data": {
            "image/png": "[encoded data removed]",
            "text/plain": [
              "<Figure size 720x720 with 9 Axes>"
            ]
          },
          "metadata": {
            "tags": [],
            "needs_background": "light"
          }
        }
      ]
    },
    {
      "cell_type": "markdown",
      "metadata": {
        "id": "kreEqrpLjpdL",
        "colab_type": "text"
      },
      "source": [
        "**3. (2 балла)** Разбейте данные на обучающую и тестовую часть в соотношении 70:30. Обучите *BaggingClassifier* на деревьях (поставьте параметр *base_estimator = DecisionTreeClassifier()*) и *RandomForest*. Возьмите количество базовых алгоритмов, равное 10. Посчитайте accuracy, recall и precision. Есть ли какая-то разница между моделями и их результатами? Как вы думаете, почему получились такие результаты?\n",
        "\n",
        "*tip: создайте отдельную функцию для вывода метрик качества;*"
      ]
    },
    {
      "cell_type": "code",
      "metadata": {
        "ExecuteTime": {
          "end_time": "2020-05-17T14:10:20.171445Z",
          "start_time": "2020-05-17T14:10:20.156474Z"
        },
        "id": "P-saEaSxjpdN",
        "colab_type": "code",
        "colab": {}
      },
      "source": [
        "from sklearn.model_selection import train_test_split\n",
        "from sklearn.metrics import accuracy_score, precision_score, recall_score"
      ],
      "execution_count": 0,
      "outputs": []
    },
    {
      "cell_type": "code",
      "metadata": {
        "id": "l0NZNY62jpdU",
        "colab_type": "code",
        "colab": {}
      },
      "source": [
        "names_coloumns = list(data.columns)\n",
        "names_coloumns.pop()\n",
        "X = data[names_coloumns].to_numpy()\n",
        "y = data['Outcome'].to_numpy()\n",
        "X_train, X_test, Y_train, Y_test = train_test_split(X, y, test_size = 0.3)"
      ],
      "execution_count": 0,
      "outputs": []
    },
    {
      "cell_type": "code",
      "metadata": {
        "id": "lbA1SRCkjpdg",
        "colab_type": "code",
        "colab": {}
      },
      "source": [
        "from sklearn.tree import DecisionTreeClassifier\n",
        "from sklearn.ensemble import BaggingClassifier, RandomForestClassifier"
      ],
      "execution_count": 0,
      "outputs": []
    },
    {
      "cell_type": "code",
      "metadata": {
        "id": "AONkw8Z4jpdx",
        "colab_type": "code",
        "colab": {
          "base_uri": "https://localhost:8080/",
          "height": 212
        },
        "outputId": "34d4cbd3-cd2e-4799-8913-9f2a106c1d9e"
      },
      "source": [
        "def tip(y_test, y_pred):\n",
        "    return 'Recall {}, \\nPrecision {}, \\nAccuracy_score {}'.format(round(recall_score(y_test, y_pred), 3), round(precision_score(y_test, y_pred), 3), round(accuracy_score(y_pred, y_test), 3))\n",
        "\n",
        "bc = BaggingClassifier(base_estimator = DecisionTreeClassifier(), n_estimators=10)\n",
        "bc.fit(X_train, Y_train)\n",
        "pred_bc = bc.predict(X_test)\n",
        "\n",
        "rfc = RandomForestClassifier(n_estimators=10, random_state = 1)\n",
        "rfc.fit(X_train, Y_train)\n",
        "pred_rfc = rfc.predict(X_test)\n",
        "\n",
        "print('BaggingClassifier:\\n\\n', tip(Y_test, pred_bc), '\\n\\nRandom Forest Classifier:\\n\\n', tip(Y_test, pred_rfc))"
      ],
      "execution_count": 23,
      "outputs": [
        {
          "output_type": "stream",
          "text": [
            "BaggingClassifier:\n",
            "\n",
            " Recall 0.712, \n",
            "Precision 0.618, \n",
            "Accuracy_score 0.792 \n",
            "\n",
            "Random Forest Classifier:\n",
            "\n",
            " Recall 0.606, \n",
            "Precision 0.571, \n",
            "Accuracy_score 0.758\n"
          ],
          "name": "stdout"
        }
      ]
    },
    {
      "cell_type": "markdown",
      "metadata": {
        "id": "DXR_QIkajpd_",
        "colab_type": "text"
      },
      "source": [
        "#### Вывод:  \n",
        "В целом модели показывают в среднем одинаковые результаты, но в зависимости от случайности выбора модели метрики могут меняться"
      ]
    },
    {
      "cell_type": "markdown",
      "metadata": {
        "id": "BKnxiy1DjpeB",
        "colab_type": "text"
      },
      "source": [
        "**4. (2 балл)** Для случайного леса проанализируйте значение ROC-AUC на этих же данных в зависимости от изменения параметров:\n",
        "* *n_estimators* (можно перебрать около 10 значений из отрезка от 10 до 1500)\n",
        "* *min_samples_leaf* (сетку значений можете выбрать на ваше усмотрение)\n",
        "\n",
        "Постройте соответствующие графики зависимости ROC-AUC от этих параметров. Какие выводы можете сделать?"
      ]
    },
    {
      "cell_type": "code",
      "metadata": {
        "id": "uuXAuVoujpeD",
        "colab_type": "code",
        "colab": {}
      },
      "source": [
        "from sklearn.metrics import roc_auc_score"
      ],
      "execution_count": 0,
      "outputs": []
    },
    {
      "cell_type": "code",
      "metadata": {
        "id": "s3UhlFFejpeR",
        "colab_type": "code",
        "colab": {}
      },
      "source": [
        "n_estimators = list(map(int, np.linspace(10, 1500, 10)))\n",
        "auc1 = []"
      ],
      "execution_count": 0,
      "outputs": []
    },
    {
      "cell_type": "code",
      "metadata": {
        "id": "Sd9Y8A12jped",
        "colab_type": "code",
        "colab": {
          "base_uri": "https://localhost:8080/",
          "height": 281
        },
        "outputId": "136e55fe-cb5f-4957-981c-65adc41afe2b"
      },
      "source": [
        "for i in n_estimators:\n",
        "    auc1.append(roc_auc_score(Y_test, RandomForestClassifier(n_estimators = i, random_state = 1).fit(X_train, Y_train).predict_proba(X_test)[:,1]))\n",
        "\n",
        "plt.plot(n_estimators, auc1)\n",
        "plt.title('ROC-AUC graph')\n",
        "plt.show()"
      ],
      "execution_count": 26,
      "outputs": [
        {
          "output_type": "display_data",
          "data": {
            "image/png": "[encoded data removed]",
            "text/plain": [
              "<Figure size 432x288 with 1 Axes>"
            ]
          },
          "metadata": {
            "tags": [],
            "needs_background": "light"
          }
        }
      ]
    },
    {
      "cell_type": "code",
      "metadata": {
        "id": "ALeVndqijpey",
        "colab_type": "code",
        "colab": {}
      },
      "source": [
        "auc2 = []\n",
        "min_samples_leafs =  list(map(int, np.linspace(1, 100, 10)))"
      ],
      "execution_count": 0,
      "outputs": []
    },
    {
      "cell_type": "code",
      "metadata": {
        "id": "gBv4makqjpe8",
        "colab_type": "code",
        "colab": {
          "base_uri": "https://localhost:8080/",
          "height": 295
        },
        "outputId": "a56b6307-ff0d-4d44-8ee7-de44775129db"
      },
      "source": [
        "for i in min_samples_leafs: \n",
        "    auc2.append(roc_auc_score(Y_test, RandomForestClassifier(min_samples_leaf = i, random_state = 1, n_estimators = 20).fit(X_train, Y_train).predict_proba(X_test)[:,1]))\n",
        "\n",
        "plt.plot(min_samples_leafs, auc2)\n",
        "plt.title('ROC_AUC min samples leaf')\n",
        "plt.xlabel('min_samples_leaf')\n",
        "plt.ylabel('AUC_ROC')\n",
        "plt.xlim((0, 100))\n",
        "plt.show()"
      ],
      "execution_count": 28,
      "outputs": [
        {
          "output_type": "display_data",
          "data": {
            "image/png": "[encoded data removed]",
            "text/plain": [
              "<Figure size 432x288 with 1 Axes>"
            ]
          },
          "metadata": {
            "tags": [],
            "needs_background": "light"
          }
        }
      ]
    },
    {
      "cell_type": "markdown",
      "metadata": {
        "id": "AdXNr2VQjpfJ",
        "colab_type": "text"
      },
      "source": [
        "Случайный лес значительно превосходит по точности одиночное дерево и достигая отсетки в 200 деревьев ROC AUC кривая в среднем достигает значения около 0.83 , ее рост прекращается\n"
      ]
    },
    {
      "cell_type": "markdown",
      "metadata": {
        "id": "xY0z53K3jpfO",
        "colab_type": "text"
      },
      "source": [
        "Также лучшее значение кривая достигает максимума в некотором случайном диапазаоне который можно отследить при фиксировании коэфмциентов в построеннии моделей, но в диапазоне от 50 до 100 зачастую метрики монотонно убывают"
      ]
    },
    {
      "cell_type": "markdown",
      "metadata": {
        "id": "ZRLYohtHjpfQ",
        "colab_type": "text"
      },
      "source": [
        "**5. (1 балл)**. Посмотрите, оказались ли какие-то признаки более важными, чем остальные? Воспользуйтесь соответствующим аттрибутом случайного леса в библиотеке sklearn, чтобы построить barplot."
      ]
    },
    {
      "cell_type": "code",
      "metadata": {
        "id": "2ACHuoZKjpfR",
        "colab_type": "code",
        "colab": {
          "base_uri": "https://localhost:8080/",
          "height": 350
        },
        "outputId": "6bd986ae-abba-465b-fd8c-d8d85bf4c242"
      },
      "source": [
        "plt.figure(figsize=(15, 5))\n",
        "plt.bar(names_coloumns, rfc.feature_importances_)\n",
        "plt.title('Важность признаков')\n",
        "plt.xlabel('Признаки')\n",
        "plt.show()"
      ],
      "execution_count": 29,
      "outputs": [
        {
          "output_type": "display_data",
          "data": {
            "image/png": "[encoded data removed]",
            "text/plain": [
              "<Figure size 1080x360 with 1 Axes>"
            ]
          },
          "metadata": {
            "tags": [],
            "needs_background": "light"
          }
        }
      ]
    },
    {
      "cell_type": "markdown",
      "metadata": {
        "ExecuteTime": {
          "end_time": "2020-05-17T13:29:37.720316Z",
          "start_time": "2020-05-17T13:29:37.711698Z"
        },
        "id": "RTBKm8_qjpfi",
        "colab_type": "text"
      },
      "source": [
        "**6. (2 балла)** Обучите HistGradientBoostingClassifier и GradientBoostingClassifier из sklearn. Опишите подробно, в чем заключается разница этих моделей. Подберите подходящее количество деревьев и проанализируйте метрики, с которыми мы работали выше."
      ]
    },
    {
      "cell_type": "code",
      "metadata": {
        "id": "tRCsp57Sjpfj",
        "colab_type": "code",
        "colab": {}
      },
      "source": [
        "from sklearn.experimental import enable_hist_gradient_boosting \n",
        "from sklearn.ensemble import HistGradientBoostingClassifier, GradientBoostingClassifier"
      ],
      "execution_count": 0,
      "outputs": []
    },
    {
      "cell_type": "code",
      "metadata": {
        "id": "hXraTuUrjpfq",
        "colab_type": "code",
        "colab": {
          "base_uri": "https://localhost:8080/",
          "height": 212
        },
        "outputId": "8ebe9096-7943-470b-d653-73024bcaa011"
      },
      "source": [
        "hgbs = HistGradientBoostingClassifier().fit(X_train, Y_train).predict(X_test)\n",
        "gbs = GradientBoostingClassifier(n_estimators = 50).fit(X_train, Y_train).predict(X_test)\n",
        "\n",
        "print( 'Hist Gradient Boosting Classifier:\\n\\n', tip(Y_test, hgbs), '\\n\\nGradient Boosting Classifier: \\n\\n', tip(Y_test, gbs))"
      ],
      "execution_count": 31,
      "outputs": [
        {
          "output_type": "stream",
          "text": [
            "Hist Gradient Boosting Classifier:\n",
            "\n",
            " Recall 0.682, \n",
            "Precision 0.577, \n",
            "Accuracy_score 0.766 \n",
            "\n",
            "Gradient Boosting Classifier: \n",
            "\n",
            " Recall 0.682, \n",
            "Precision 0.608, \n",
            "Accuracy_score 0.784\n"
          ],
          "name": "stdout"
        }
      ]
    },
    {
      "cell_type": "markdown",
      "metadata": {
        "id": "o7iAdheOjpf1",
        "colab_type": "text"
      },
      "source": [
        "Метрики имеют примерно одинаковое значение, большую роль по моему мнению играет случайность в построении моделей"
      ]
    },
    {
      "cell_type": "markdown",
      "metadata": {
        "id": "X10uGiPfjpf4",
        "colab_type": "text"
      },
      "source": [
        "**7. (1.5 балла)** Вспомните, что представляет собой [стэкинг моделей](https://scikit-learn.org/stable/modules/generated/sklearn.ensemble.StackingClassifier.html#sklearn.ensemble.StackingClassifier). Возьмите в качестве базовых моделей любой ансамблевый метод из тех, которые были использованы выше, и простой классфикатор из уже вами изученных на курсе. Как final_estimator используйте лог-регресссию. Посчитайте метрики для мета-классификатора. Улучшилось ли качество?"
      ]
    },
    {
      "cell_type": "code",
      "metadata": {
        "ExecuteTime": {
          "end_time": "2020-05-17T13:53:07.245421Z",
          "start_time": "2020-05-17T13:53:07.238527Z"
        },
        "id": "5EZgWAwOjpf5",
        "colab_type": "code",
        "colab": {}
      },
      "source": [
        "from sklearn.ensemble import StackingClassifier\n",
        "from sklearn.linear_model import LogisticRegression\n",
        "from sklearn.svm import LinearSVC"
      ],
      "execution_count": 0,
      "outputs": []
    },
    {
      "cell_type": "code",
      "metadata": {
        "id": "wYpXtI-KjpgE",
        "colab_type": "code",
        "colab": {
          "base_uri": "https://localhost:8080/",
          "height": 283
        },
        "outputId": "3ddccc0f-f614-4513-d1f1-d97e04d7f587"
      },
      "source": [
        "base_learners = [('str1', LinearSVC()), \n",
        "                 ('str2', RandomForestClassifier(n_estimators=200, random_state=1))]\n",
        "stack = StackingClassifier(base_learners, final_estimator = LogisticRegression(random_state = 1)).fit(X_train, Y_train).predict(X_test)\n",
        "\n",
        "print('Stacking Classifier', tip(Y_test, stack))"
      ],
      "execution_count": 39,
      "outputs": [
        {
          "output_type": "stream",
          "text": [
            "/usr/local/lib/python3.6/dist-packages/sklearn/svm/_base.py:947: ConvergenceWarning: Liblinear failed to converge, increase the number of iterations.\n",
            "  \"the number of iterations.\", ConvergenceWarning)\n",
            "/usr/local/lib/python3.6/dist-packages/sklearn/svm/_base.py:947: ConvergenceWarning: Liblinear failed to converge, increase the number of iterations.\n",
            "  \"the number of iterations.\", ConvergenceWarning)\n",
            "/usr/local/lib/python3.6/dist-packages/sklearn/svm/_base.py:947: ConvergenceWarning: Liblinear failed to converge, increase the number of iterations.\n",
            "  \"the number of iterations.\", ConvergenceWarning)\n",
            "/usr/local/lib/python3.6/dist-packages/sklearn/svm/_base.py:947: ConvergenceWarning: Liblinear failed to converge, increase the number of iterations.\n",
            "  \"the number of iterations.\", ConvergenceWarning)\n",
            "/usr/local/lib/python3.6/dist-packages/sklearn/svm/_base.py:947: ConvergenceWarning: Liblinear failed to converge, increase the number of iterations.\n",
            "  \"the number of iterations.\", ConvergenceWarning)\n",
            "/usr/local/lib/python3.6/dist-packages/sklearn/svm/_base.py:947: ConvergenceWarning: Liblinear failed to converge, increase the number of iterations.\n",
            "  \"the number of iterations.\", ConvergenceWarning)\n"
          ],
          "name": "stderr"
        },
        {
          "output_type": "stream",
          "text": [
            "Stacking Classifier Recall 0.758, \n",
            "Precision 0.602, \n",
            "Accuracy_score 0.788\n"
          ],
          "name": "stdout"
        }
      ]
    },
    {
      "cell_type": "markdown",
      "metadata": {
        "id": "22LSDACIlolg",
        "colab_type": "text"
      },
      "source": [
        "Качество для стэка моделей улучшилось это видно по значительному улучшению Recall и Accuracy, метрика Precision однако осталась неизменной"
      ]
    },
    {
      "cell_type": "markdown",
      "metadata": {
        "ExecuteTime": {
          "end_time": "2020-05-17T14:00:45.438403Z",
          "start_time": "2020-05-17T14:00:45.426725Z"
        },
        "id": "8Ct-1pMMjpgX",
        "colab_type": "text"
      },
      "source": [
        "*tip: не забудьте завести список базовых алгоритмов*\n",
        "<code>\n",
        "base_learners = [\n",
        "                 ('name1', model1(),\n",
        "                 ('name2', model2())             \n",
        "                ]\n",
        "\n",
        "</code>"
      ]
    }
  ]
}